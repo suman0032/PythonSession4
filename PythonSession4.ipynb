{
 "cells": [
  {
   "cell_type": "code",
   "execution_count": 82,
   "metadata": {},
   "outputs": [
    {
     "name": "stdout",
     "output_type": "stream",
     "text": [
      "Enter length a: 3\n",
      "Enter length b: 5\n",
      "Enter length c: 7\n",
      "Area of triangle is 6.49519052838329 \n"
     ]
    }
   ],
   "source": [
    "class Triangle:\n",
    "    def __init__(self):\n",
    "        self.a=int(input('Enter length a: '))\n",
    "        self.b=int(input('Enter length b: '))\n",
    "        self.c=int(input('Enter length c: '))\n",
    "\n",
    "class Area(Triangle):\n",
    "    def __init__(self,*args, **kwargs):\n",
    "        super(Area, self).__init__(*args, **kwargs)\n",
    "    \n",
    "    def __str__(self):\n",
    "        s=(self.a+self.b+self.c)/2\n",
    "        return str((s*(s-self.a)*(s-self.b)*(s-self.c))**0.5)\n",
    "\n",
    "mytriangle=Area()\n",
    "print('Area of triangle is %s '% mytriangle)"
   ]
  },
  {
   "cell_type": "code",
   "execution_count": 62,
   "metadata": {},
   "outputs": [
    {
     "name": "stdout",
     "output_type": "stream",
     "text": [
      "Do you want to enter value (y / n)?:y\n",
      "Enter word: suman\n",
      "Do you want to enter value (y / n)?:y\n",
      "Enter word: suchandra\n",
      "Do you want to enter value (y / n)?:n\n",
      "Enter length to check : 5\n",
      "['', 'suchandra']\n"
     ]
    }
   ],
   "source": [
    "def filter_long_words(l,n):\n",
    "    nm=list(map(lambda x:x if len(x)>n else '', l))\n",
    "    return nm\n",
    "\n",
    "lst=[]\n",
    "while input(\"Do you want to enter value (y / n)?:\")!='n':\n",
    "    lst.append(input('Enter word: '))\n",
    "num=int(input('Enter length to check : '))\n",
    "lst=filter_long_words(lst,num)\n",
    "print(lst)\n",
    "    "
   ]
  },
  {
   "cell_type": "code",
   "execution_count": 64,
   "metadata": {},
   "outputs": [
    {
     "data": {
      "text/plain": [
       "[2, 3, 4]"
      ]
     },
     "execution_count": 64,
     "metadata": {},
     "output_type": "execute_result"
    }
   ],
   "source": [
    "lst=['ab','cde','erty']\n",
    "list(map(lambda x : len(x), lst))"
   ]
  },
  {
   "cell_type": "code",
   "execution_count": 72,
   "metadata": {},
   "outputs": [
    {
     "name": "stdout",
     "output_type": "stream",
     "text": [
      "Enter single string: a\n",
      "True\n"
     ]
    }
   ],
   "source": [
    "checkstring=lambda x:True if str(x).upper() in list('AEIOU') else False\n",
    "\n",
    "print(checkstring(input('Enter single string: ')))"
   ]
  },
  {
   "cell_type": "code",
   "execution_count": 65,
   "metadata": {},
   "outputs": [
    {
     "data": {
      "text/plain": [
       "['A', 'E', 'I', 'O', 'U']"
      ]
     },
     "execution_count": 65,
     "metadata": {},
     "output_type": "execute_result"
    }
   ],
   "source": [
    "list('AEIOU')"
   ]
  }
 ],
 "metadata": {
  "kernelspec": {
   "display_name": "Python 3",
   "language": "python",
   "name": "python3"
  },
  "language_info": {
   "codemirror_mode": {
    "name": "ipython",
    "version": 3
   },
   "file_extension": ".py",
   "mimetype": "text/x-python",
   "name": "python",
   "nbconvert_exporter": "python",
   "pygments_lexer": "ipython3",
   "version": "3.6.5"
  }
 },
 "nbformat": 4,
 "nbformat_minor": 2
}
